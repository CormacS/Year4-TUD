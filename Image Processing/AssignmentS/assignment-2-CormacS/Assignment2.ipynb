{
 "cells": [
  {
   "cell_type": "markdown",
   "metadata": {},
   "source": [
    "# Cancer Screening\n",
    "\n",
    "Some skeleton code has been provided below. Please follow the structure outlined. Your code should be added to the **process_image()** function. Please leave the final 4 lines of code as is, the filenames should be hardcoded and both images should be handled by the process_image function. The code inside process_image can be removed and is there for example only."
   ]
  },
  {
   "cell_type": "markdown",
   "metadata": {},
   "source": [
    "## The Algorithm\n",
    "\n",
    "Your comments should go here. Please see the rubric for details on how to effectively maximise your marks for comments. Please be aware that in-line comments are not a replacement for initial comments.\n",
    "\n",
    "Here's a [handy reference](https://guides.github.com/pdfs/markdown-cheatsheet-online.pdf) on how to use GitHub markdown."
   ]
  },
  {
   "cell_type": "code",
   "execution_count": 15,
   "metadata": {},
   "outputs": [],
   "source": [
    "#Cormac Smith C17723185\n",
    "#This program reads in an image of cells, uses canny and contour to find the edges of the cells, then usings bounding rectangle to make a rectangle around the cell. \n",
    "#This makes it easier to check if the click is inside the cell or not. It then displays that to the user and writes it to a file\n",
    "\n",
    "import cv2\n",
    "import numpy as np\n",
    "from matplotlib import pyplot as plt\n",
    "from matplotlib import image as image\n",
    "from easygui import *\n",
    "\n",
    "def process_image(I, outfilepath):\n",
    "    def click(event,xc,yc,flags,param):\n",
    "        if event == cv2.EVENT_LBUTTONDOWN:\n",
    "            #Used a counter so it doesnt go through again if the click is in mulitple rectangles\n",
    "            counter = 0\n",
    "            #Loops through the 35 biggest Hulls\n",
    "            for i in range(35):\n",
    "                #Get the top left x and y coordinate along with the height and width\n",
    "                x,y,w,h=cv2.boundingRect(hull_list[i])\n",
    "                #get the bottom left corner x and y coordinates\n",
    "                x2 = x + w\n",
    "                y2 = y + h\n",
    "                #If statements to check if the click was inside the Hull\n",
    "                if counter == 0:\n",
    "                    if xc < x2 and xc > x:\n",
    "                        if yc > y and yc < y2:\n",
    "                            counter =+ 1\n",
    "                            cv2.destroyWindow(\"Image\")\n",
    "                            G = cv2.cvtColor(I,cv2.COLOR_BGR2GRAY)\n",
    "                            #Find an average for the threshold\n",
    "                            T = np.mean(I) + np.std(I)\n",
    "                            #Create a mask using thresholding\n",
    "                            T, B = cv2.threshold(G, thresh = T-10, maxval = 255,type = cv2.THRESH_BINARY)\n",
    "                            #Create and ROI using the mask\n",
    "                            ROI = cv2.bitwise_not(I,I,mask=B)\n",
    "                            #Crop out the selected part of the image\n",
    "                            C = ROI[y:y2,x:x2]\n",
    "                            #Make the image an appropriate size\n",
    "                            S = cv2.resize(C, dsize=(400,320))\n",
    "                            cv2.imshow(\"Cell\",S) \n",
    "                            key = cv2.waitKey(0)\n",
    "                            cv2.imwrite(outfilepath, S)\n",
    "                        \n",
    "    #Simple GUI explaining what to do\n",
    "    title = \"Assignment 2\"\n",
    "    msg = \"When the image appears, please click on a cell to isolate it.\\nIf nothing happens it means no cell was detected, try clicking on another part of the cell.\"\n",
    "    button = \"Let's Go\"\n",
    "    msgbox(msg, title, button ) \n",
    "\n",
    "    #Initilizing my Hull List\n",
    "    hull_list = []\n",
    "\n",
    "    gray = cv2.bilateralFilter(I, 7, 50, 50)\n",
    "    #Used Canny to detect the edges of the cells\n",
    "    E = cv2.Canny(gray, 30, 150)\n",
    "\n",
    "    #Used my canny to find contours\n",
    "    contours,_ =cv2.findContours(E, mode=cv2.RETR_EXTERNAL, method=cv2.CHAIN_APPROX_NONE)\n",
    "\n",
    "    #Added the hulls from the contours to their own list\n",
    "    for i in range(len(contours)):\n",
    "        hull = cv2.convexHull(contours[i])\n",
    "        hull_list.append(hull)\n",
    "\n",
    "    #Sorted the hull list by area\n",
    "    hull_list = sorted(hull_list, key=cv2.contourArea, reverse=True)\n",
    "\n",
    "    cv2.namedWindow(\"Image\")\n",
    "    cv2.setMouseCallback(\"Image\", click)    \n",
    "    cv2.imshow(\"Image\",I) \n",
    "    key = cv2.waitKey(0)\n",
    "\n",
    "\n",
    "# Please do not change the following lines of code\n",
    "Colour = cv2.imread('Cervical Colour.jpg')\n",
    "Mono = cv2.imread('Cervical Mono.jpg')\n",
    "\n",
    "process_image(Colour, 'Cervical Colour - Final.jpg')\n",
    "\n",
    "process_image(Mono, 'Cervical Mono - Final.jpg')"
   ]
  },
  {
   "source": [],
   "cell_type": "code",
   "metadata": {},
   "execution_count": null,
   "outputs": []
  }
 ],
 "metadata": {
  "kernelspec": {
   "name": "python3",
   "display_name": "Python 3.8.6 64-bit",
   "metadata": {
    "interpreter": {
     "hash": "cfd14b2f589f5538d85dc51f29428c1eb83854a101f5b549bf35fa5123596132"
    }
   }
  },
  "language_info": {
   "codemirror_mode": {
    "name": "ipython",
    "version": 3
   },
   "file_extension": ".py",
   "mimetype": "text/x-python",
   "name": "python",
   "nbconvert_exporter": "python",
   "pygments_lexer": "ipython3",
   "version": "3.8.6-final"
  }
 },
 "nbformat": 4,
 "nbformat_minor": 4
}